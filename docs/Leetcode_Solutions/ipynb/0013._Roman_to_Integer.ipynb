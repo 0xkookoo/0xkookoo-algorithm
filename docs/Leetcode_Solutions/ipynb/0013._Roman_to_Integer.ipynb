{
 "cells": [
  {
   "cell_type": "markdown",
   "metadata": {},
   "source": [
    "# 013.Roman to Integer\n",
    "\n",
    "### 难度：Easy\n",
    "\n",
    "## 刷题内容\n",
    "\n",
    "> 原题链接\n",
    "\n",
    " - 英文：https://leetcode.com/problems/roman-to-integer/\n",
    " - 中文：https://leetcode-cn.com/problems/roman-to-integer/description/\n",
    "\n",
    "> 内容描述\n",
    "\n",
    "```\n",
    "罗马数字包含以下七种字符：I， V， X， L，C，D 和 M。\n",
    "\n",
    "字符          数值\n",
    "I             1\n",
    "V             5\n",
    "X             10\n",
    "L             50\n",
    "C             100\n",
    "D             500\n",
    "M             1000\n",
    "\n",
    "例如， 罗马数字 2 写做 II ，即为两个并列的 1。12 写做 XII ，即为 X + II 。 27 写做  XXVII, 即为 XX + V + II 。\n",
    "\n",
    "通常情况下，罗马数字中小的数字在大的数字的右边。但也存在特例，例如 4 不写做 IIII，而是 IV。数字 1 在数字 5 的左边，所表示的数等于大数 5 减小数 1 得到的数值 4 。同样地，数字 9 表示为 IX。这个特殊的规则只适用于以下六种情况：\n",
    "\n",
    "I 可以放在 V (5) 和 X (10) 的左边，来表示 4 和 9。\n",
    "X 可以放在 L (50) 和 C (100) 的左边，来表示 40 和 90。 \n",
    "C 可以放在 D (500) 和 M (1000) 的左边，来表示 400 和 900。\n",
    "\n",
    "给定一个罗马数字，将其转换成整数。输入确保在 1 到 3999 的范围内。\n",
    "\n",
    "示例 1:\n",
    "输入: \"III\"\n",
    "输出: 3\n",
    "\n",
    "示例 2:\n",
    "输入: \"IV\"\n",
    "输出: 4\n",
    "\n",
    "示例 3:\n",
    "输入: \"IX\"\n",
    "输出: 9\n",
    "\n",
    "示例 4:\n",
    "输入: \"LVIII\"\n",
    "输出: 58\n",
    "解释: C = 100, L = 50, XXX = 30, III = 3.\n",
    "\n",
    "示例 5:\n",
    "输入: \"MCMXCIV\"\n",
    "输出: 1994\n",
    "解释: M = 1000, CM = 900, XC = 90, IV = 4.\n",
    "```\n",
    "\n",
    "## 解题方案\n",
    "\n",
    "> 思路 1\n",
    "\n",
    " - 从前向后依次扫描，用一个临时变量记录当前数字。\n",
    " - 如果没有出现题目中出现的特殊情况，那我们就可以一直一个一个加下去，这样就能得到正确结果。\n",
    " - 特殊情况出现的时候，后一位数字比前一位数字大，而正常情况正好是相反的（后一位数字一定比前一位小），后一位减去前一位即可得到这两位得到的数值，但是要注意一点，我们在这之前已经将前一位进行加和了一次，所以这时候，我们要减去 2 次前一位数字。\n",
    " - 其他地方没有太难的部分，以下是 AC 代码。"
   ]
  },
  {
   "cell_type": "code",
   "execution_count": 1,
   "metadata": {},
   "outputs": [
    {
     "name": "stdout",
     "output_type": "stream",
     "text": [
      "1994\n"
     ]
    }
   ],
   "source": [
    "class Solution(object):\n",
    "    def romanToInt(self, s):\n",
    "        \"\"\"\n",
    "        :type s: str\n",
    "        :rtype: int\n",
    "        \"\"\"\n",
    "        lookup = {\n",
    "            'M': 1000,\n",
    "            'D': 500,\n",
    "            'C': 100,\n",
    "            'L': 50,\n",
    "            'X': 10,\n",
    "            'V': 5,\n",
    "            'I': 1\n",
    "        }\n",
    "        res = 0\n",
    "        for i in range(len(s)):\n",
    "            if i > 0 and lookup[s[i]] > lookup[s[i-1]]:\n",
    "                res = res + lookup[s[i]] - 2 * lookup[s[i-1]]\n",
    "            else:\n",
    "                res += lookup[s[i]]\n",
    "        return res\n",
    "    \n",
    "s = Solution()\n",
    "string = \"MCMXCIV\"\n",
    "print(s.romanToInt(string))"
   ]
  },
  {
   "cell_type": "markdown",
   "metadata": {},
   "source": [
    "可以修改一下的地方，我们可以将从字典中取数的逻辑封装到一个函数中，这样也比较优雅。"
   ]
  },
  {
   "cell_type": "code",
   "execution_count": 2,
   "metadata": {},
   "outputs": [
    {
     "name": "stdout",
     "output_type": "stream",
     "text": [
      "1994\n"
     ]
    }
   ],
   "source": [
    "def getNum(x):\n",
    "    return {\"I\":1,\n",
    "       \"V\":5,\n",
    "       \"X\":10,\n",
    "       \"L\":50,\n",
    "       \"C\":100,\n",
    "       \"D\":500,\n",
    "       \"M\":1000}.get(x)\n",
    "\n",
    "class Solution:   \n",
    "    def romanToInt(self, s):\n",
    "        \"\"\"\n",
    "        :type s: str\n",
    "        :rtype: int\n",
    "        \"\"\"\n",
    "        Num = {\n",
    "            'M': 1000,\n",
    "            'D': 500,\n",
    "            'C': 100,\n",
    "            'L': 50,\n",
    "            'X': 10,\n",
    "            'V': 5,\n",
    "            'I': 1\n",
    "        }\n",
    "        result = 0\n",
    "        for i in range(len(s)):\n",
    "            if i > 0 and Num[s[i]] > Num[s[i-1]]:\n",
    "                result = result + Num[s[i]] - 2 * Num[s[i-1]]\n",
    "            else:\n",
    "                result += Num[s[i]]\n",
    "        return result\n",
    "    \n",
    "s = Solution()\n",
    "string = \"MCMXCIV\"\n",
    "print(s.romanToInt(string))"
   ]
  }
 ],
 "metadata": {
  "kernelspec": {
   "display_name": "Python 3",
   "language": "python",
   "name": "python3"
  },
  "language_info": {
   "codemirror_mode": {
    "name": "ipython",
    "version": 3
   },
   "file_extension": ".py",
   "mimetype": "text/x-python",
   "name": "python",
   "nbconvert_exporter": "python",
   "pygments_lexer": "ipython3",
   "version": "3.6.3"
  }
 },
 "nbformat": 4,
 "nbformat_minor": 2
}
